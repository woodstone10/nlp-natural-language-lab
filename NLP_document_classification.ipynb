{
  "nbformat": 4,
  "nbformat_minor": 0,
  "metadata": {
    "colab": {
      "name": "NLP document classification.ipynb",
      "provenance": [],
      "collapsed_sections": [],
      "toc_visible": true,
      "authorship_tag": "ABX9TyNvPFdVa065pU0aSygHHNkL",
      "include_colab_link": true
    },
    "kernelspec": {
      "name": "python3",
      "display_name": "Python 3"
    },
    "language_info": {
      "name": "python"
    }
  },
  "cells": [
    {
      "cell_type": "markdown",
      "metadata": {
        "id": "view-in-github",
        "colab_type": "text"
      },
      "source": [
        "<a href=\"https://colab.research.google.com/github/woodstone10/nlp-natural-language-lab/blob/main/NLP_document_classification.ipynb\" target=\"_parent\"><img src=\"https://colab.research.google.com/assets/colab-badge.svg\" alt=\"Open In Colab\"/></a>"
      ]
    },
    {
      "cell_type": "markdown",
      "metadata": {
        "id": "MKfn8BLRGR3V"
      },
      "source": [
        "# NLP Document Classification\n",
        "\n",
        "---\n",
        "Data pre-processing: text -> (CounterVectorizer) -> DTM (document term matrix)\n"
      ]
    },
    {
      "cell_type": "markdown",
      "metadata": {
        "id": "8mvsMfCjHSju"
      },
      "source": [
        "## data (20 news)\n",
        "\n",
        "https://scikit-learn.org/stable/modules/generated/sklearn.datasets.fetch_20newsgroups.html\n",
        "\n",
        "![image.png](data:image/png;base64,iVBORw0KGgoAAAANSUhEUgAAAisAAAClCAYAAACdi72pAAAgAElEQVR4Ae2dPW4kt9OH/1dRoECHciAs4L2FM8GQzvAGzgwBcwoHTryCTiDAkRfYTezIgBO+4EeRVUV2T8+X1DPzGFhMN5ssVj1kd/2G7JH/F/gPAhCAAAQgAAEIrJjA/1bsG65BAAIQgAAEIACBgFhhEkAAAhCAAAQgsGoCiJVVDw/OQQACEIAABCCAWGEOQAACEIAABCCwagLrFStfN+H+9nN4/rojvy9P4eb2Kbzs2GxR9eTTXbi5vQsPX0J4ebwLN5824VtpnM4fXxeZotJCAmucB1td/x6eP+V5crPq+ZD9vN983xoRFa6cwL734SVgO2VOqXzKM8M/L1Lf8VkSc+FEnWrjCAclx8X8trb/toqVb5vPJiG/WwD73hwnm1iv4aGIFGGAWBESJ/xc3TzYHuv5iNbTiZXE4LYItvjpH8IJY76novhP/4Z1tvOmxjsQ2Pc+fAfX9usiz71FQv1kOUV7PhAiHfNBHW3iGMepz/xl/BjmxIbPlVK+y+dZi5WhkDrVxOomTo/5fJJU7/tqSxZwH/q+8zzoxejQ7tbC0wmArV3PVhjFdyJfv27Cg1mtGSUGX+bPZ4Ph4nsT2Pk+PNHcmo17NMfHDXZ6Vu/8LBn3uXPpyftdzmtn37sGh88HxEoHdaJgwc260w0w0Q3FjsAC7q5FPt35Rj/WjXv4TTmM5+DCUXzv56v/YuHPU3g7j9nBUDCwlMDO9+H7za0WwmiOt6vtKNbb4RWDj5qXJ+93Ka9G7qCjA+M5gljJk7Iu5bqtkhxchtLq9O+UpIeXLAfHifRl7p2Vvs/67ogASTdXW4bu9uDc9fEydfbe+hZtZv+9OPHnsXUq03Hpd3AW+mptuCU6eYgkXhJv4ZvsuzI927YwmO1X24nH3pZ6lyeE9uAyNk2dbNCy3jYPmhPGbhwfYduquLFQHA2nzKvOl9m4lPF46OvKvSC+SD8qbhvvYLvEt41zqbQ3bZVN51UI0m+dhxL78nGxfHd40Bdnkq/Vx9av8TXxm7EtLBznOlZizF2v9/bIfrJp+0y+1i0p/6wZ1K1cB/NV+qz3p3r2+XGpfHIg1o8SnNiT50g9d35W/0s735e/LuzKp5lbE89jW+cu1C2V5JM8d/JnvRa25ALfdsSk8pZ5HGbmuAssnkYWzm6q5RlJnVSuxq17ris/kiE3FloYTcZn7wl7v8k9b+vkyHxf2pcZ1j5WeVbV+ZStb+8j1mh+Gb+FXzV1mDg6UKwUGHril8FokzOEb5sn86JsCkgFkie9ngwC2T4YaszlILVTdlKxDIIq7+x3A1IGXMfhO+vaFCGi2qS4Zs5z0lAxLfTVLKmnNspG4d1uPjV5K4NBfF08tk7H9stTeqnYY5Hzl0c9ftaWTOYoVltiyWNs58nnKgSz3WXzwM+nJhqUT35rwnMsD9HmX/ZgPi6JXn/m2HVcVSyouRFb5Btb+Vhu+jaW6iFc2woTLWx6ltqjfJzr2PjKOG0ZFz+vu3ncd+ZKPJORL7HJVHkxt/B+sS/m67no/ZAxUIlWPXhjrz52/Szrnis1Ec/dnzmW3FbVk77UjwNSnTruhYG/b+X+1wlR/JC2vk28LteKWf2xKC5vo/jR5lfPOvah+cVze+/68f8enh/bDxiSX/WZ1r4ctD59ex1VO459mvsz+RWfPXo8VN9p3qn7dMuzZHrOeP9UH27eJW99v12dbK+K8dhIPafnWcfK3h9hqjkM+ihj3RiWe2zLc0TyQGvXxmTJ0UFipZs8pcep8uqQGYQBsFixu8Fq63ow7CfZ1rBjddvHaLLmB7CakLWXcjDwx09Kc57qe3vuBl7gq3fDxzLkNLJrmOeHRDdpVB0TS+/E1hI7NmUyuwekrWPHqHYw4F6vxYOp6yoWU7+e+P78ea1oDqzP5lI5cWMcS0fjMeW3Lx/EkXxQSS12sd2vUXwLxiX5s2UejzCosjSXjL8jX2KDqfJibMTRtYl9zc3rxKnOw9jf5/Dw+Fm9AJzL8q8QB2NZ45rw1Y9fOtcifS5Oa9P6WjpeZF/mXBm3wRyqYXQH1od62fdbL8iBZ+XPpZ771L7N9qHHpdmwz6kJ31v1ugrQBE68uKWd9tHYkhPdfibu2fgG7bp+bZ3t97z4Vz47e9rvUsf5ONWHLc9+GdE08Uyy4+X823J6kFgZPhhihylg+4BLwanlO9lKGdVNPjtoozgssFKjG5BYrgelgDW+yJKl9dn0OfDHgzfnyQ+xaz/rw3Srr8WD1Le1UW+2gV9D4WX6WsCg9umFn6FiTlL8mmv9FmRvMmlkxi/1N+A/ik8MxM8YV+1HXTDxlvIaU2NZOZo5ouzIt79hXLZePhvEOvJlyu/y7an6NWhruBUXRmXWO30PyJWBr/4hk/pvvNpW7kAUiNn6mfvsx2fkS2w0VV4MDljYNgvmtbYR50OcO3ruxet6PqX6MX43N3WbGq88+9Q9k+qp81h3qm2Za/J8SGNahVXpxNvz5+KLKW9cxLZU6z6nfDP2pFUZX3VvNPvjuRVbprhUG822PkOGcY/nYUuSW+ZPcjv7Ve+vWDYVs4Sp54yUpTbWn2pzas7oZ4mPr1s1cYJT+S6MIys5Frf85xxre++Ulm6cJ/swzMZjPXomDee0d3ri/B3ESpnQ3QOg3PwmaOWlg6au1MMRjGGiNg/BwWStFmcOBv6kG0tNOnPuH3oj06ObwPgqy9T6YeduyIFfQwamrx0Y1BtP++CCST7obQn/TX/BZE42XEKI3Yzi091PcTbxLuDouKcutsalHZHjQazOl1Rzyu81ihV970qY2z4Lu/HDdMAo2lsy1l40mHFbMq/b/ROfH9m/1m7q4ZyeNSnB7vjcGsWUygZz/WRiRQarPItvZ5LclG8uDuFRE3SXbEdjvCUXiJvFVhLG8nyd8qu2iQdtbE2xOWljXYu32Xb3b3rOmy2jcb/CSIux3Gf2wcTX8TtUrCxhPfDbjfPU/WAF3misfQ7IkScmMqZ1AJYdHCRWUseDB5kpdwOd3NJlCY5fJpWBmkmQotB9/9p2ZWAHxYiKWmfLgRvEWNvbMeeD+l0PW321fuf2rmzUz8iuKzO+do75gvFklFpmvEuhLRu3N3X2nQcprn6eJNs1sTlmyUdf5s9nbjY/5wRE+hzE6tinaqNxixd8+aCt4Vb6HpWVS+Wjj29qD9nY8v5Yo+OzqbFUtYfzL8Y6x3bAwieooV3VbzyMde43r+H5U5s3MWZf5prZZDgVY/Kx2e3GMxkdjUW8YMvNOIgzi+yP566YGNqVi4viGszxLtkO6ozGb1Qmvphrlo1UsZ9L6mS/msiKFra02+rHXPuZa8buEl62zuw4GtuFUlc28M3d71N92HLrl4yJrZNLl9yf0t5/HiRWZJDbMpw8bJX4cMHXNjWRyLde/U0jQ7QvPHnXRdDodhNlfjKmQVM+RtP+pSnfXRfHFrEi3w7cw9e8sNlNntipnkD9JEiDrV9kGvi1fWVFOE0zMH52DyIHx8eRfJI32GPdPo5Y6idzjk2P55J5kG2bJCf91znW999xHPm4NS7HIZ32fQ3HQ8Ru9bFxMveT92HAbcSy92zg1yjmzv6Ab/Jdj5PtLY3rtm9PZYxa0tDz3tqrZwMW9n7ZPq+TrWRHz8/Wzn4L1i9AxpbWx0XzdXR/CmPz7bw8T/TzYoKReS52c709g+uqlnrpMkbh77vKtxwsiSvVUWOcbLoVG1+nF25yf5e55J/Bbrx7v2Is+scboznuoxOxav9qc/Zficx4b8jLvcaPvo/slzxLVbvUtZozs/H1dvvnhq9T+KlxiG3SPdXNO8c6+ebtydzRHAZ9dPNyYGc4z1y9zk4/VrpkmVgx+4t5n84/ZNpetg40dyUTOddZ8rPSp/DSwdZuy3EOPtmVm9xMLKmnJowUyQOrxjb98E1NBv74m9GfS5JubNzy6xJfy4CKjYcvLpaBX/0kl4exi3GGgdyA0m998Ak/92nqf9qEF/OXj90kLW1HD01jJybyUXyu745znAue7TaO0abiIfPb+NPF1TkyFmbeF9XM2HcP+1Rt0HbEbVSmusmHXXxLx0XdZ+V+mZsPPiaZQ/FTuCaHujHpPLYFAxZeQKQGKs7ct5v3RXTYGAYP5SLmJv2vglPeXRjM15n5a5+LdhtVArd1ZuzXn0ZnX0xsnoc8K6WTwacdw0G/haGwyatS7vmmxlf86eLRY6rqj8dNvtgK7wEzFauZayrGqXvF+qZi0T5GO85P+0zu75Xqh2vXCeNPqs/Yj+93+OWizNtBHrPxjPNu98xLPvoc7vvw15c+R0a5yz0T1Dj5w61ixTfgHAIQgAAEJggMH/YTdY9R/N79HcPnj7YBs48ZgU587eYGYmU3XtSGAAQgMElg6lv7ZINDL5B49yKYVo709sleVmi0nMB49WV5+xAQK7vQoi4EIACBQuDl0S2Hly2Iuuz/HqQQK3tSzlsSsj21pxGaLSSQxOGC7cc5c4iVOTpcgwAEIDBBwL4T4N/lm2h07GLEyrGJYm+lBBArKx0Y3IIABCAAAQhAIBNArDATIAABCEAAAhBYNQHEyqqHB+cgAAEIQAACEECsMAcgAAEIQAACEFg1AcTKqocH5yAAAQhAAAIQQKwwByAAAQhAAAIQWDUBxMqqhwfnIAABCEAAAhBArDAHIAABCEAAAhBYNQHEyqqHB+cgAAEIQAACEECsMAcgAAEIQAACEFg1AcTKqocH5yAAAQhAAAIQQKwwByAAAQhAAAIQWDUBxMqqhwfnIAABCEAAAhBArDAHIAABCEAAAhBYNQHEyqqHB+cgAAEIQAACEECsMAcgAAEIQAACEFg1AcTKqocH5yAAAQhAAAIQQKwwByAAAQhAAAIQWDUBxMqqhwfnIAABCEAAAhBArDAHIAABCEAAAhBYNQHEyqqHB+cgAAEIQAACEECsMAcgAAEIQAACEFg1AcTKqocH5yAAAQhAAAIQQKwwByAAAQhAAAIQWDWByxArX57Cze1TeHkH1C+Pd+Hm8XW6p6+bcH97Fx6+TFcZXUl2P23CN32x2LrZw542wzEEIAABCEDgnAlsFSvfNp9DTJbdv7mE/d5ELlKsvIYHRMp7zyT6gwAEIACBFRJYJlb8N/7wPTx/igLmc3j+uoKo1iRWOhx7io60qrISvl1MFEAAAhCAAATej8CeYiU7ONy6eD/fW0+IlcaCIwhAAAIQgMCFEThIrITht/+8ktC2jdTqwKh+EhqqTgghbT3JNpMIEfX+RvcOh9TRg5PK1PZVtzpU+lFbXPeb79pCCMHF8vgalr2zUuLxPsxs62i7/dbbxPs4EvccmxSRi2MBC/NejrNvroWQmSiO7X0dWYGTcdDj7Hzy7xxJbMLw0y/h/z7dhakxan26IeQUAhCAAATOnsBhYqUk85ooSlIzCaUkm1wnJy99PSXpW52EXJ2arNrLpzmZqwQuia0MR76uE6MkVNUm+i6CKLYrvtdYSmza1yoidDs/BZId3XdOys2ub5DPtVhJJZ2dQbslbPwYibhQgiWPwQSbzo8iQAqDxETZCl+e6svFPqZvm6e6baiPY2SprrOTBK9i3fUVG7qxH1CiCAIQgAAEzpzAgWIlJy5JxD45CRtdnhJOTUAxkX8OD4+f1S9scll9FyYlI538o1UnAEzCctfECd+mlsuBFUnDxChJtfovbdVnl9yn/FFtRnY7O7Z+OlvAxvIuNrRtfTzoIo6dFmyt3yxu9Nja5panvTY4M2MoImQ07rZs6N/APEUQgAAEIHC+BA4UKzoRW+FikMREJN+adVKKiTKWp4RZvtnrutGIrl+N6n5dHW2r1s8HfWLLdtqWVUvMfd1mw2+DmG665O98NZXbSZf0Ozutbj1awCbZVVs0LdaS9D3vajwe5DFtbWQ7J36W8Up+xnMrIpKZ5J+qa2z323DVZqw3jC2vwDTxFNkO+nX9cAoBCEAAAudN4DCxYoTBQrGiVjjit/6ceFrbTiQMk5YTALqO8ckOjradVhzMOyTZB0mEuq62kpL/qlZW9PZN9NSymYqjxhTZiZCshXLQxkVKJj/TGIxFi7BuYiT7aPrVYxg78efSsfY3Hs+NhbThEwIQgAAEzprAAWLFJvdIYSqR+/KcQF/D86f2rTgLF1uWyA6Tlk3INrG5a3V4dHnvu6wiaLFikmmyk9vNJshuRUT3W53pDjyj8cvLrtkCNkkoTIoReVenjYPrYXJMfb18PuIqNRWHkd++zJ+LmbTak/2NzGQLsl7mAAIQgAAELo7AfmJFlv79t9pSLgk/0UpJxyXDVHZnv9FLmWwvCOph0lKJL9ZzdfI3edtnEgMqaXtxIN/+q++DWKTObmJlLoFLkAOh14meVrceubhzuWMziCOtvqixSywMd/XycRkXIwq+bsJD+eXUy6Ne2dGxfg/Pj+2laLPi08WWfW4rL/2Y1pjLr8XuN5vwYHyWbSXtj27FMQQgAAEInCuBZWKle+fBCgETfEmO7T2HUfLIyakKg2SgJCyVRFPxkoQ8qFOFhfju7ZbtEvHzfhNXddo7K6lvF0v014scE3s86RKxJN64RTK9EtDZHdnxnQ3iNqJA6rs4Ru+XZMGSfez8LIJFWGlR4du1MS2rUMLfxW7H5ym8+Fj8ucRSGbuxkp+8OwGjm3EMAQhAAALnSWCrWDnPsPD6ogksEXIXDYDgIAABCFwXAcTKdY33RUSbVmXUlt5FBEUQEIAABCAwSQCxMomGC+sk4N7JWaeTeAUBCEAAAkckgFg5IkxMnZaAvB/T3os5bX9YhwAEIACBdRBArKxjHPACAhCAAAQgAIEJAoiVCTAUQwACEIAABCCwDgKIlXWMA15AAAIQgAAEIDBBALEyAYZiCEAAAhCAAATWQQCxso5xwAsIQAACEIAABCYIIFYmwFAMAQhAAAIQgMA6CCBW1jEOeAEBCEAAAhCAwAQBxMoEGIohAAEIQAACEFgHAcTKOsYBLyAAAQhAAAIQmCCAWJkAQzEEIAABCEAAAusggFhZxzjgBQQgAAEIQAACEwQQKxNgKIYABCAAAQhAYB0EECvrGAe8gAAEIAABCEBgggBiZQIMxRCAAAQgAAEIrIMAYmUd44AXEIAABCAAAQhMEECsTIChGAIQgAAEIACBdRBArKxjHPACAhCAAAQgAIEJAoiVCTAUQwACEIAABCCwDgKzYuXt7S3wDwaXPAfWcRviBQQgAAEIzBGYFSt///tf4B8MLnkOzN0cXIMABCAAgXUQQKwgyK5akK7jNsQLCEAAAhCYI4BYQawgVubuEK5BAAIQgMCHE0CsIFYQKx9+G+IABCAAAQjMETiZWPnt4S7cPPxx1Ynwkt/1uJTY5m4OrkEAAhCAwDoIHCBW/gg/3d6FG/Pv5/BbWalArJzRi7l/PocfzDj+GH75s/f/7dcf1XiP65ybiFnHbYgXEIAABCAwR2AvsZKTVp+sfntoZYiVPtmvNZH/9tBEZvQxj+982ajOWuOb82vu5uAaBCAAAQisg8DuYuX3n8PNrU1ko2SAWDkfsdKPX141++l3icGfx/K/wi/3d+GHX/86662+ddyGeAEBCEAAAnMEdhQryxNUJ1b8VsP9c3jTL7fOXU8CSW05mXdh3HaUtzvbVpIxn1awOHEyIVC7MdbjeSbHczcH1yAAAQhAYB0EdhMrSVC0rR6b4GzC94nMbjVk0dNewHXJMX5rfyhipuvzj/BTFSu+3X8h9SuCZbat9Xculqu75sRJ2vIRpkqETJWfE6913IZ4AQEIQAACcwT2ECvbt4BisvJixScwk+g6UaGEhEuc2k6yUYVLaaNtzbTVdjhWvBM/u71jxgqxMnc/cQ0CEIAABE5AYA+xst/KShQEScDoX52ob+v1mhcf5d2I+Ksj/35EbaNtpmPxsazgDNoiUJRAKQIkiZLbu9DeVcl1ECsnuPMwCQEIQAACiwnsJlb+7bddppK+WVkp39bbtk/5xYkSK9lOExe6br6W+9aiJfbhBczYn77tuF6fwK+lXhZ+E6tmEytUZozViss5MVt8p1ARAhCAAAQ+jMCOYsW9EzKToHQiG30zH5XVJDeRHON13U4f17YzPu1af4nNS6iTxqoTjkq46a21yjcLS78Kc248PuzOo2MIQAACEFhMYGexIj9ZHf18efLvrHjxISstkiD/fA4/6Z/A6vq//2y2JYzgGLxf8Xdc/ZGtpLm2NemqpHyVZXHVSbbNpll4QWPG4Yy5Lb5TqAgBCEAAAh9GYA+xkhNaSlb+XRERCfJ+ij+X+vfP4bf411CVWLF/QVVtRyThon62LG0kQYrwEds68W5rKzau+bPjN806CRbh7MfhTBl+2J1HxxCAAAQgsJjA3mLl3Jb78Xd61eSa2Sy+U6gIAQhAAAIfRgCxcqYrAtcsMI4Z+4fdeXQMAQhAAAKLCSBWECtn/efyDxUui+8UKkIAAhCAwIcRQKwgVhArH3b70TEEIAABCCwhMCtW3t7eAv9gcMlzYMlNQh0IQAACEPhYArNi5WNdo3cIQAACEIAABCAQAmKFWQABCEAAAhCAwKoJIFZWPTw4BwEIQAACEIAAYoU5AAEIQAACEIDAqglcmFj5Hp4/3YX7zfdVQ1/s3NdNuL/9HJ6/Lm5BRQhAAAIQgMDFEdhLrHzbfA7x/37c/q0loSJWDp2haWwfX4dmXh71mD+FF18riatWZ140voaHOIeGfZVrMsc+bcI33xfnEIAABCBwNQR2FispYbnk8W3ztJJv/6cWKzmJPnzZY358eQo3t4MEP2fqHVdWjBAZCAg/7v48FKFS2fhzF2cVvL6vLe2cGU4hAAEIQOAKCOwoVmKyXssqymh0ECsjKlvLlJBKIsQLiDAQaU5IJfHhROzYVghZ2DyFh7hSY/rK41cFz1bHqQABCEAAAtdAYA+xsv2dkPqtuSzj2+0AERSv6f0S2UrKCcou/5ukVZNjbi/tRsnO9hdCSpqypeDFVvkmX+25hFsnQUrobYsj1tf++Zi1X7b/aKOtsPh2xvcac/Xi5AdjgXFMsdIESdeXEk0nD5QOIAABCEDgbAjsKFZCCJK0zTdiHe9reNDXihhoiV3ERluhaQnbl7WkLtsMN0ZsFHFT+xMh1F6wHSdE6ccn4e/h+XHu/QhfP8edxYjyNZQYtfAZJuItrFYjVkLIY9RiTDHr+MrqSxVb3bgrVmW8/NikPh5fS18iDGWs9BzjGAIQgAAEronA7mIl0SkiYfIFSY3QCwh/HutmezXRqT6qyJlIflk8SRJ1tlMbuSY+qTo7i4GBWJmy4cuHYkV8kk/lWyzyNqTaCT+9gNBdNVF5F26MUJFaal64ladYI7VX7Xxf6fzWrtx5kSQ98QkBCEAAAtdDYE+xIoAkOXlBIOXy7VgnIJeQk6mBCPDvSUwlblPubMsqUN0C6v2RBKm3bSS6/nPgZ+xDJeDWJvtSxdakWJlhZWJrlk955AVE7stxjYUpHrXq0cWX21Su3fWyPVdXxcp5xzLzsUL2lASwDQEIQAACayNwoFiJ4dhEJt++a5J21339DGQgAo4lVrrkNxqCkli3rhQN/IxJeNhHtlk5DJL1VlZrESsTMTZh42IVxNV/xXcgHGVrz6+8ZDO5LWJFoPIJAQhA4PoIHEGs6G/Io8Tiy/x5hD4QAb6sJj47SDbBOdsTbawFdTYQFOrq2M+pPnx5Z9v5mjpyZd6GdeYkZ02ANPOWcStvdUfjt30bq7UvNjtGsXzCdnODIwhAAAIQuHACO4oV90JohJMSavtljE9AsnrQvhm7hJwAjxKSKyv96F/SSN/TtnNffuXj5bFsW33dhAf9126HyVLPgJHv8msjvRVW+lVbHKP3T7ayWolYEcHQOMs2UBv3PM4DBsNVp8zUxy+rbnXrKExtDekx4RgCEIAABC6dwO5ipVvGV+8tJFpZZMhPge83+SfKLdGNEr4TJspO3UaRxP0l/gn6/t2TPFAj20U4jNpUAST2dLKdGPokaHL96psk1VEfykxKzqmO9LOFlcT8jn9uvxcQEoD11f90O9YSYSpj70WiWJLPcV9uvGbEjtjhEwIQgAAELpvAjmLlA2F8QOL+wGjpGgIQgAAEIACBQgCxwlSAAAQgAAEIQGDVBBArqx4enIMABCAAAQhAALHCHIAABCAAAQhAYNUEZsXK29tb4B8MLnkOrPruxDkIQAACEEgEZsXK3//+F/gHg0ueAzwHIAABCEBg/QQQKwiyqxak679F8RACEIAABBAriBXECs8BCEAAAhBYNQHECmIFsbLqWxTnIAABCEDgtGLl95/Dze2P4Zc/1/3ex28Pd+Hm/jm8vbdw+fM5/KD5pPO78NPv6+Z1Se+w8AiAAAQgAIH1E9hZrLz9+mOof05d/Xn5m4c/+m/oiJWeiRZEKxQraXxHY6n9vqDj9d+ieAgBCEAAAvuJlW4V4q/wy338/+WsfxVlVasCXqx0IuCP8NPt+6y0pNUlEZ+IFZ4MEIAABCCwIgJHEit52+LDtlO6JH8m2yhrEStpBezn8Nu//4U0hoiVFd2iuAIBCEAAAkcVK3/75KuSYFzRkESov8X/8Otf4e9/ZWUm/9+Mc5kVHH77ybzXIf2k/uX/oOxXJGwfehVI/DKrLslms9W907Koz/+C99vE5nnpc99/WmHJMRgbSagdbwVmyOJcxeACv3kEQAACEIDA+gkcV6z865KmJPSSNESkVKGhErIts9tJKeHrraciSmwb+5JsFgl5tUALJREkb7/+XF/89Qk6t7U+ZN+bvb/Fd+WX7/PvyEOvUni/tTiJjPy55/lvET+qzxSP4ywx7vPpWexj45zarP8WxUMIQAACEDiyWMnf/K2IaAm+T4RltUMn9LLK0lYPogCywiEmQ2MrJWtfRwunqRUJtX1VfdDt9OqOK9/ap24rx84PL078+UCsJAHkeEQWjZf0td+n4bpgZeKchMnIVx4BEGwGZ/UAAAYYSURBVIAABCCwfgJHFiujhL5drNhEO0roajtGXgKNnyIwhisLI1+ineaPJC+ToJNg6OuIQKq+LukzJfvsh/4FVbXhxYk/H4qVLNSqjVTHC7X9hIrEWLkiVtZ/B+MhBCAAgSsgcFyx4hO9S+hGFKRE6ITJqMzbHCVQ108WIU6slHZ5q8aKFuPXTH+xXhUJC/qUvupKk1818uLEn0+IlbQFJVtB0Q8RbSM2O5YZFju2FfF3Tp9XcI8TIgQgAIGzJ3BEsTIQHi6h94lw0MYn9KmErROp62dOrIyuWb/GIidvv6iXdrf2uSA2L078+WTs0XZeTYm+NzG0/4qKCAzL4nB7Ynetn2d/BxMABCAAgSsgcByxkpKs2pYRIeESep8IFyR0eT/Fbd/oF2Tzy65+60aLjr/CLw/6L9Tqa+79F3mJdfBeiPlFkIttuwhqvwyqqzNenPjzTrg18RBXbX749Tn85LgcKgr6MWp9Hmp7je2v4B4nRAhAAAJnT2A/saLfG0nHE+9MuITeJ8JlYiUmudRW96u3Plw/OSlqQZL70e+N6NWI3q8mLGob3V8UY1v7jEk++yA2fvj1j/TH85aLFeknv7Ojfc6/HFLbUiIQD/wcsVijyDiWT2d/BxMABCAAgSsgsLNYOVaSwM6BKxbdKsyB9g4UOec6nldwjxMiBCAAgbMngFg50ySdXt6Vl2zPNIY1CJyzv4MJAAIQgMAVEECsnGWi11tcrKgcInqu4B4nRAhAAAJnTwCxcmZiRd7dqe+9nJn/hwiLU7Q9+zuYACAAAQhcAYFZsfL29hb4B4NLngNXcI8TIgQgAIGzJzArVs4+OgKAAAQgAAEIQODsCSBWzn4ICQACEIAABCBw2QQQK5c9vkQHAQhAAAIQOHsCiJWzH0ICgAAEIAABCFw2AcTKZY8v0UEAAhCAAATOnsDOYuXb5nOQPx/fPj+H569nz4IAIAABCEAAAhBYIYH9xMqnTfh2smBew8PtXXj4crIOMOwJfHkKN7dP4cWXH3TOOB6Ej8YQgAAEIFAJIFYqiis+QKxc8eATOgQgAIH1EziJWHl5zP+X4LxN1G8R2etqFSUlTd1WrsVv6RN2Hl8L5e/h+dNduN+8ps/Yd12d+boJ9/r/2FzblKa+X399/eO4t4d+LOwKS14dqdt9akUtt7OrMaks1vE89Vjs7SkNIQABCEDgWgkcXaykhKWTfUpcSmh83YSHzffG218Po+2D5WLlxouaJFRU/yGLmhvxsbv+Gh7kWvPyso/SGFjhEQbjUMVIoiHisIxlZ2M0jpeNkeggAAEIQOA0BPYTK3qVIh7LN+6U+H3Sc0mti8MnNX8eG+wgVpzQiAn2XoujaE4nVn3c+XYlBQMG6UVqxzJ4YVfbTY2ZWt26EpSECQEIQAACxyewn1gRceL9ScnLbuPIFoIRDCnp2Xp1y2bwjX4XsWL6kVUUL67SuYiqstJyOxA1Pr5LPa+iowWYVlGG3PQqVQi1nhc2w3Fs9jmCAAQgAAEILCVwfLEyJWSKRzm56YTnv5X789hw+crKSKw0ITSHJfcbxZW1MdfmQq5NiJUlHOpP2RErFzIZCAMCEIDA+ggcV6z4bYIu3ikhorcLltSJht27J+XcJ9gkjrpE2jlWC1Ly3SK4auVLORiIlUUc6rbf0jG7FGDEAQEIQAAC70nguGJFBIRL9i+PdstFCwrZRmirH+N3XFI9Zbf/Rj9ul99P0WIohPjuRX3J98tT+9VQCGFRkn7PEXqPvkYis2zV6bFKK1xV+GWBItfzeMg4R6cnxuM94qEPCEAAAhC4KAJHFiuRTVnxUO87SEJL5EoSlHdZHr4MvpWrd1+aiMn1pF20aVdNZpKjspfbq6TqrylBdFEjvSUYEY3mp8turNovrcoYG1aDMsW2jeMWR7gMAQhAAAIQcAR2FiuuPacQgAAEIAABCEDgpAQQKyfFi3EIQAACEIAABA4lgFg5lCDtIQABCEAAAhA4KQHEyknxYhwCEIAABCAAgUMJzIqVt7e3wD8YXPIcOPQGoj0EIAABCJyewKxY+eeffwL/YMAcYA4wB5gDzAHmwEfOgf8HgMuY7tnoxloAAAAASUVORK5CYII=)"
      ]
    },
    {
      "cell_type": "code",
      "metadata": {
        "id": "3NOss_rcHFVJ"
      },
      "source": [
        "from sklearn.datasets import fetch_20newsgroups\n",
        "news = fetch_20newsgroups()\n",
        "x = news.data\n",
        "y = news.target"
      ],
      "execution_count": null,
      "outputs": []
    },
    {
      "cell_type": "code",
      "metadata": {
        "id": "0xxBfvpNGJaf"
      },
      "source": [
        "from sklearn.feature_extraction.text import CountVectorizer\n",
        "\n",
        "cv = CountVectorizer()\n",
        "x = cv.fit_transform(x)"
      ],
      "execution_count": null,
      "outputs": []
    },
    {
      "cell_type": "code",
      "metadata": {
        "colab": {
          "base_uri": "https://localhost:8080/"
        },
        "id": "Ji0um0DqHxvw",
        "outputId": "385ee12d-91b0-48c4-b25b-a947586352eb"
      },
      "source": [
        "from sklearn.model_selection import train_test_split\n",
        "\n",
        "X_train, X_test, y_train, y_test = train_test_split(x, y, test_size=0.3)\n",
        "print(X_train.shape, X_test.shape, y_train.shape, y_test.shape)"
      ],
      "execution_count": null,
      "outputs": [
        {
          "output_type": "stream",
          "text": [
            "(7919, 130107) (3395, 130107) (7919,) (3395,)\n"
          ],
          "name": "stdout"
        }
      ]
    },
    {
      "cell_type": "code",
      "metadata": {
        "colab": {
          "base_uri": "https://localhost:8080/"
        },
        "id": "eFpZ2JZ7ICyB",
        "outputId": "1868f337-f5ae-4811-8836-204c35951d5d"
      },
      "source": [
        "print(X_train[0]) "
      ],
      "execution_count": null,
      "outputs": [
        {
          "output_type": "stream",
          "text": [
            "  (0, 56979)\t2\n",
            "  (0, 85354)\t1\n",
            "  (0, 111322)\t1\n",
            "  (0, 68532)\t7\n",
            "  (0, 114731)\t2\n",
            "  (0, 90379)\t1\n",
            "  (0, 89362)\t10\n",
            "  (0, 76032)\t1\n",
            "  (0, 65798)\t1\n",
            "  (0, 114579)\t2\n",
            "  (0, 42876)\t2\n",
            "  (0, 89860)\t2\n",
            "  (0, 114455)\t20\n",
            "  (0, 90686)\t2\n",
            "  (0, 68766)\t5\n",
            "  (0, 115475)\t4\n",
            "  (0, 32311)\t1\n",
            "  (0, 123796)\t2\n",
            "  (0, 66608)\t10\n",
            "  (0, 37565)\t3\n",
            "  (0, 128026)\t1\n",
            "  (0, 63363)\t1\n",
            "  (0, 128402)\t5\n",
            "  (0, 62221)\t4\n",
            "  (0, 35983)\t1\n",
            "  :\t:\n",
            "  (0, 56206)\t1\n",
            "  (0, 112080)\t1\n",
            "  (0, 62090)\t1\n",
            "  (0, 72661)\t3\n",
            "  (0, 25726)\t1\n",
            "  (0, 29112)\t1\n",
            "  (0, 89170)\t2\n",
            "  (0, 96226)\t1\n",
            "  (0, 118867)\t1\n",
            "  (0, 46560)\t4\n",
            "  (0, 79107)\t2\n",
            "  (0, 121153)\t1\n",
            "  (0, 89283)\t1\n",
            "  (0, 36576)\t1\n",
            "  (0, 6906)\t1\n",
            "  (0, 117896)\t1\n",
            "  (0, 56770)\t1\n",
            "  (0, 52699)\t1\n",
            "  (0, 87715)\t2\n",
            "  (0, 83503)\t1\n",
            "  (0, 36888)\t1\n",
            "  (0, 76318)\t1\n",
            "  (0, 94494)\t1\n",
            "  (0, 100492)\t1\n",
            "  (0, 67098)\t1\n"
          ],
          "name": "stdout"
        }
      ]
    },
    {
      "cell_type": "markdown",
      "metadata": {
        "id": "wcDEsHtkWNcY"
      },
      "source": [
        "## Model\n",
        "\n",
        "\n",
        "1.   Logistic Regression\n",
        "2.   SVM\n",
        "3.   Naive Bayes\n",
        "4. Decision Tree\n",
        "5. XGBoost\n"
      ]
    },
    {
      "cell_type": "markdown",
      "metadata": {
        "id": "NcXhETnRJUtw"
      },
      "source": [
        "### Logistic Regression\n"
      ]
    },
    {
      "cell_type": "code",
      "metadata": {
        "colab": {
          "base_uri": "https://localhost:8080/"
        },
        "id": "H1RslSaPIQ2v",
        "outputId": "e57cd31a-ee3d-4574-b312-5b6189ca3d21"
      },
      "source": [
        "from sklearn.linear_model import LogisticRegression\n",
        "\n",
        "model = LogisticRegression()\n",
        "model.fit(X_train, y_train)"
      ],
      "execution_count": null,
      "outputs": [
        {
          "output_type": "stream",
          "text": [
            "/usr/local/lib/python3.7/dist-packages/sklearn/linear_model/_logistic.py:940: ConvergenceWarning: lbfgs failed to converge (status=1):\n",
            "STOP: TOTAL NO. of ITERATIONS REACHED LIMIT.\n",
            "\n",
            "Increase the number of iterations (max_iter) or scale the data as shown in:\n",
            "    https://scikit-learn.org/stable/modules/preprocessing.html\n",
            "Please also refer to the documentation for alternative solver options:\n",
            "    https://scikit-learn.org/stable/modules/linear_model.html#logistic-regression\n",
            "  extra_warning_msg=_LOGISTIC_SOLVER_CONVERGENCE_MSG)\n"
          ],
          "name": "stderr"
        },
        {
          "output_type": "execute_result",
          "data": {
            "text/plain": [
              "LogisticRegression(C=1.0, class_weight=None, dual=False, fit_intercept=True,\n",
              "                   intercept_scaling=1, l1_ratio=None, max_iter=100,\n",
              "                   multi_class='auto', n_jobs=None, penalty='l2',\n",
              "                   random_state=None, solver='lbfgs', tol=0.0001, verbose=0,\n",
              "                   warm_start=False)"
            ]
          },
          "metadata": {
            "tags": []
          },
          "execution_count": 19
        }
      ]
    },
    {
      "cell_type": "code",
      "metadata": {
        "colab": {
          "base_uri": "https://localhost:8080/"
        },
        "id": "wXWkviM3KCu2",
        "outputId": "e11f8262-c0fd-4184-f77b-75a8d01a426b"
      },
      "source": [
        "from sklearn.metrics import accuracy_score\n",
        "\n",
        "pred = model.predict(X_test)\n",
        "acc = accuracy_score(pred, y_test)\n",
        "acc"
      ],
      "execution_count": null,
      "outputs": [
        {
          "output_type": "execute_result",
          "data": {
            "text/plain": [
              "0.8645066273932254"
            ]
          },
          "metadata": {
            "tags": []
          },
          "execution_count": 20
        }
      ]
    },
    {
      "cell_type": "markdown",
      "metadata": {
        "id": "nhI2wB3rK5bN"
      },
      "source": [
        "### SVM (support vector machines)\n",
        "\n",
        "클래스 사이의 경계에 위치한 데이터 포인트를 서포트 벡터라고함\n",
        "\n",
        "각 서포트 벡터 사이의 마진이 가장 큰 방향으로 학습\n",
        "\n",
        "서포트 벡터 까지의 거리와 서포트 벡터의 중요도를 기반으로 예측 수행"
      ]
    },
    {
      "cell_type": "code",
      "metadata": {
        "colab": {
          "base_uri": "https://localhost:8080/"
        },
        "id": "jWBN9Y5WLZzK",
        "outputId": "42c2b152-f9d9-49fd-bdfd-e9600c3e07c8"
      },
      "source": [
        "from sklearn import svm\n",
        "model = svm.SVC(kernel='linear')\n",
        "model.fit(X_train, y_train)\n",
        "pred = model.predict(X_test)\n",
        "acc = accuracy_score(pred, y_test)\n",
        "acc"
      ],
      "execution_count": null,
      "outputs": [
        {
          "output_type": "execute_result",
          "data": {
            "text/plain": [
              "0.8179675994108984"
            ]
          },
          "metadata": {
            "tags": []
          },
          "execution_count": 21
        }
      ]
    },
    {
      "cell_type": "markdown",
      "metadata": {
        "id": "4z5TpYHFObU2"
      },
      "source": [
        "### Naive Bayes Classification"
      ]
    },
    {
      "cell_type": "code",
      "metadata": {
        "colab": {
          "base_uri": "https://localhost:8080/"
        },
        "id": "TgqCFw0NOjFb",
        "outputId": "e7805cda-644d-4350-db71-54c8016fc069"
      },
      "source": [
        "from sklearn.naive_bayes import MultinomialNB\n",
        "\n",
        "model = MultinomialNB()\n",
        "model.fit(X_train, y_train)\n",
        "pred = model.predict(X_test)\n",
        "acc = accuracy_score(pred, y_test)\n",
        "acc"
      ],
      "execution_count": null,
      "outputs": [
        {
          "output_type": "execute_result",
          "data": {
            "text/plain": [
              "0.8164948453608247"
            ]
          },
          "metadata": {
            "tags": []
          },
          "execution_count": 22
        }
      ]
    },
    {
      "cell_type": "markdown",
      "metadata": {
        "id": "XDT-jV2gQEya"
      },
      "source": [
        "performance improvement with tf-idf"
      ]
    },
    {
      "cell_type": "code",
      "metadata": {
        "colab": {
          "base_uri": "https://localhost:8080/"
        },
        "id": "E0XiR8afPOOA",
        "outputId": "b26a9e19-6d45-43cd-90c0-6dd1aabc616a"
      },
      "source": [
        "from sklearn.feature_extraction.text import TfidfTransformer\n",
        "\n",
        "tfidf = TfidfTransformer()\n",
        "X_train_tf = tfidf.fit_transform(X_train)\n",
        "X_test_tf = tfidf.fit_transform(X_test)\n",
        "model.fit(X_train_tf, y_train)\n",
        "pred = model.predict(X_test_tf)\n",
        "acc = accuracy_score(pred, y_test)\n",
        "acc"
      ],
      "execution_count": null,
      "outputs": [
        {
          "output_type": "execute_result",
          "data": {
            "text/plain": [
              "0.8288659793814434"
            ]
          },
          "metadata": {
            "tags": []
          },
          "execution_count": 23
        }
      ]
    },
    {
      "cell_type": "markdown",
      "metadata": {
        "id": "VK7LkUuQQXra"
      },
      "source": [
        "### Decision Tree"
      ]
    },
    {
      "cell_type": "code",
      "metadata": {
        "colab": {
          "base_uri": "https://localhost:8080/"
        },
        "id": "ozyjSqJ5QaAe",
        "outputId": "9279a09c-f861-47c0-d767-51e46b95eb55"
      },
      "source": [
        "from sklearn.tree import DecisionTreeClassifier\n",
        "\n",
        "model = DecisionTreeClassifier()\n",
        "model.fit(X_train, y_train)\n",
        "pred = model.predict(X_test)\n",
        "acc = accuracy_score(pred, y_test)\n",
        "acc"
      ],
      "execution_count": null,
      "outputs": [
        {
          "output_type": "execute_result",
          "data": {
            "text/plain": [
              "0.625920471281296"
            ]
          },
          "metadata": {
            "tags": []
          },
          "execution_count": 24
        }
      ]
    },
    {
      "cell_type": "markdown",
      "metadata": {
        "id": "NzHKTkcBQ63Q"
      },
      "source": [
        "### XGBoost"
      ]
    },
    {
      "cell_type": "code",
      "metadata": {
        "colab": {
          "base_uri": "https://localhost:8080/"
        },
        "id": "k4mLqeP9Q-JR",
        "outputId": "e2f693ad-e4c9-4409-8e99-8840d90286a2"
      },
      "source": [
        "from xgboost import XGBClassifier\n",
        "\n",
        "model = XGBClassifier(n_estimators=30, learning_rate=0.05, max_depth=3)\n",
        "model.fit(X_train, y_train)\n",
        "pred = model.predict(X_test)\n",
        "acc = accuracy_score(pred, y_test)\n",
        "acc"
      ],
      "execution_count": null,
      "outputs": [
        {
          "output_type": "execute_result",
          "data": {
            "text/plain": [
              "0.7069219440353461"
            ]
          },
          "metadata": {
            "tags": []
          },
          "execution_count": 25
        }
      ]
    },
    {
      "cell_type": "markdown",
      "metadata": {
        "id": "wsQK6Y1nT0b8"
      },
      "source": [
        "## cross-validation"
      ]
    },
    {
      "cell_type": "code",
      "metadata": {
        "colab": {
          "base_uri": "https://localhost:8080/"
        },
        "id": "F4aX3h09T3Xx",
        "outputId": "bd4d833e-8705-4e99-b4b9-e66c7746935a"
      },
      "source": [
        "from sklearn.naive_bayes import MultinomialNB\n",
        "from sklearn.feature_extraction.text import TfidfTransformer\n",
        "\n",
        "tfidf = TfidfTransformer()\n",
        "X_train_tf = tfidf.fit_transform(X_train)\n",
        "X_test_tf = tfidf.fit_transform(X_test)\n",
        "model = MultinomialNB()\n",
        "model.fit(X_train_tf, y_train)\n",
        "pred = model.predict(X_test_tf)\n",
        "acc = accuracy_score(pred, y_test)\n",
        "acc"
      ],
      "execution_count": null,
      "outputs": [
        {
          "output_type": "execute_result",
          "data": {
            "text/plain": [
              "0.8288659793814434"
            ]
          },
          "metadata": {
            "tags": []
          },
          "execution_count": 26
        }
      ]
    },
    {
      "cell_type": "code",
      "metadata": {
        "colab": {
          "base_uri": "https://localhost:8080/"
        },
        "id": "pS0y_K54T6u-",
        "outputId": "34ad57ee-12e2-445c-f894-21c2c3eb2f05"
      },
      "source": [
        "from sklearn.model_selection import cross_val_score\n",
        "scores = cross_val_score(model, x, y, cv=5)\n",
        "print(scores, scores.mean())"
      ],
      "execution_count": null,
      "outputs": [
        {
          "output_type": "stream",
          "text": [
            "[0.83870968 0.83826779 0.82368537 0.83031374 0.83642794] 0.833480903927519\n"
          ],
          "name": "stdout"
        }
      ]
    },
    {
      "cell_type": "markdown",
      "metadata": {
        "id": "f0CXrEXxVCs_"
      },
      "source": [
        "## precision and recall"
      ]
    },
    {
      "cell_type": "code",
      "metadata": {
        "colab": {
          "base_uri": "https://localhost:8080/"
        },
        "id": "3UiKrZctVIE1",
        "outputId": "dc8cff43-5cb0-4ed8-b209-7e836b21ade9"
      },
      "source": [
        "from sklearn.metrics import precision_score, recall_score, f1_score\n",
        "\n",
        "precision = precision_score(pred, y_test, average='micro')\n",
        "recall = recall_score(pred, y_test, average='micro')\n",
        "f1 = f1_score(pred, y_test, average='micro')\n",
        "print(precision, recall, f1)"
      ],
      "execution_count": null,
      "outputs": [
        {
          "output_type": "stream",
          "text": [
            "0.8288659793814434 0.8288659793814434 0.8288659793814434\n"
          ],
          "name": "stdout"
        }
      ]
    },
    {
      "cell_type": "markdown",
      "metadata": {
        "id": "wGXLlqBKXH0e"
      },
      "source": [
        "## parameter optimization using grid search"
      ]
    },
    {
      "cell_type": "code",
      "metadata": {
        "colab": {
          "base_uri": "https://localhost:8080/"
        },
        "id": "Me8KoGJ7V4bL",
        "outputId": "11d762b7-3d01-43df-8083-f1bf25521f5f"
      },
      "source": [
        "from sklearn.model_selection import GridSearchCV\n",
        "\n",
        "GS = GridSearchCV(estimator=model, param_grid={'alpha': [0.001, 0.01, 0.1, 1.]}, scoring='accuracy', cv=10)\n",
        "GS.fit(x, y)\n",
        "\n",
        "print(GS.best_score_)\n",
        "print(GS.best_params_)"
      ],
      "execution_count": null,
      "outputs": [
        {
          "output_type": "stream",
          "text": [
            "0.8897820965842167\n",
            "{'alpha': 0.001}\n"
          ],
          "name": "stdout"
        }
      ]
    },
    {
      "cell_type": "code",
      "metadata": {
        "colab": {
          "base_uri": "https://localhost:8080/"
        },
        "id": "6-73mqKaXRcN",
        "outputId": "0b5f33e6-e90a-42ac-da73-a56bbd7b2a32"
      },
      "source": [
        "from sklearn.model_selection import GridSearchCV\n",
        "\n",
        "GS = GridSearchCV(estimator=model, \n",
        "                  param_grid={'alpha': [0.0006, 0.0007, 0.0008, 0.0009, \n",
        "                                        0.001, \n",
        "                                        0.002, 0.003, 0.004, 0.005]}, \n",
        "                  scoring='accuracy', cv=10)\n",
        "GS.fit(x, y)\n",
        "\n",
        "print(GS.best_score_)\n",
        "print(GS.best_params_)"
      ],
      "execution_count": null,
      "outputs": [
        {
          "output_type": "stream",
          "text": [
            "0.8897820965842167\n",
            "{'alpha': 0.001}\n"
          ],
          "name": "stdout"
        }
      ]
    }
  ]
}