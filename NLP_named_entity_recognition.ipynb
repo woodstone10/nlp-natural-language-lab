{
  "nbformat": 4,
  "nbformat_minor": 0,
  "metadata": {
    "colab": {
      "name": "NLP named entity recognition.ipynb",
      "provenance": [],
      "collapsed_sections": [],
      "toc_visible": true,
      "authorship_tag": "ABX9TyNylSy4UQTMPXVpRduciIpE",
      "include_colab_link": true
    },
    "kernelspec": {
      "name": "python3",
      "display_name": "Python 3"
    },
    "language_info": {
      "name": "python"
    },
    "accelerator": "GPU"
  },
  "cells": [
    {
      "cell_type": "markdown",
      "metadata": {
        "id": "view-in-github",
        "colab_type": "text"
      },
      "source": [
        "<a href=\"https://colab.research.google.com/github/woodstone10/nlp-natural-language-lab/blob/main/NLP_named_entity_recognition.ipynb\" target=\"_parent\"><img src=\"https://colab.research.google.com/assets/colab-badge.svg\" alt=\"Open In Colab\"/></a>"
      ]
    },
    {
      "cell_type": "markdown",
      "metadata": {
        "id": "wWjcAim0snlT"
      },
      "source": [
        "# NLP Named Entity Recognition"
      ]
    },
    {
      "cell_type": "markdown",
      "metadata": {
        "id": "BGGj3mBxFQPr"
      },
      "source": [
        "# Using NLTK library\n",
        "\n",
        "\n",
        "---\n",
        "\n",
        "\n",
        "\n"
      ]
    },
    {
      "cell_type": "code",
      "metadata": {
        "id": "Is64z7kD3IBS",
        "colab": {
          "base_uri": "https://localhost:8080/"
        },
        "outputId": "395b5b0c-27e8-4aa1-c5a0-5d137e661b73"
      },
      "source": [
        "import nltk\n",
        "nltk.download('words')\n",
        "nltk.download('punkt')\n",
        "nltk.download('averaged_perceptron_tagger')\n",
        "nltk.download('maxent_ne_chunker')"
      ],
      "execution_count": null,
      "outputs": [
        {
          "output_type": "stream",
          "text": [
            "[nltk_data] Downloading package words to /root/nltk_data...\n",
            "[nltk_data]   Unzipping corpora/words.zip.\n",
            "[nltk_data] Downloading package punkt to /root/nltk_data...\n",
            "[nltk_data]   Unzipping tokenizers/punkt.zip.\n",
            "[nltk_data] Downloading package averaged_perceptron_tagger to\n",
            "[nltk_data]     /root/nltk_data...\n",
            "[nltk_data]   Unzipping taggers/averaged_perceptron_tagger.zip.\n",
            "[nltk_data] Downloading package maxent_ne_chunker to\n",
            "[nltk_data]     /root/nltk_data...\n",
            "[nltk_data]   Unzipping chunkers/maxent_ne_chunker.zip.\n"
          ],
          "name": "stdout"
        },
        {
          "output_type": "execute_result",
          "data": {
            "text/plain": [
              "True"
            ]
          },
          "metadata": {
            "tags": []
          },
          "execution_count": 1
        }
      ]
    },
    {
      "cell_type": "markdown",
      "metadata": {
        "id": "dzcBeY0BGm1a"
      },
      "source": [
        "## Part of Speech\n",
        "\n",
        "\n"
      ]
    },
    {
      "cell_type": "code",
      "metadata": {
        "colab": {
          "base_uri": "https://localhost:8080/"
        },
        "id": "uViRMS8OGC-A",
        "outputId": "8125951e-b26a-449a-87fa-1d49db73ba11"
      },
      "source": [
        "from nltk import word_tokenize, pos_tag, ne_chunk\n",
        "sentence = \"Jonggil Nam is working at LG Electronics\"\n",
        "sentence = pos_tag(word_tokenize(sentence))\n",
        "print(sentence)"
      ],
      "execution_count": null,
      "outputs": [
        {
          "output_type": "stream",
          "text": [
            "[('Jonggil', 'NNP'), ('Nam', 'NNP'), ('is', 'VBZ'), ('working', 'VBG'), ('at', 'IN'), ('LG', 'NNP'), ('Electronics', 'NNP')]\n"
          ],
          "name": "stdout"
        }
      ]
    },
    {
      "cell_type": "markdown",
      "metadata": {
        "id": "lPNCef6BHrCT"
      },
      "source": [
        "## Entity name"
      ]
    },
    {
      "cell_type": "code",
      "metadata": {
        "colab": {
          "base_uri": "https://localhost:8080/"
        },
        "id": "8UuYdcPfGVUk",
        "outputId": "2eb232a7-4e16-4f64-f666-ea11f1a07b34"
      },
      "source": [
        "sentence = ne_chunk(sentence)\n",
        "print(sentence)"
      ],
      "execution_count": null,
      "outputs": [
        {
          "output_type": "stream",
          "text": [
            "(S\n",
            "  (PERSON Jonggil/NNP)\n",
            "  (ORGANIZATION Nam/NNP)\n",
            "  is/VBZ\n",
            "  working/VBG\n",
            "  at/IN\n",
            "  (ORGANIZATION LG/NNP Electronics/NNP))\n"
          ],
          "name": "stdout"
        }
      ]
    },
    {
      "cell_type": "markdown",
      "metadata": {
        "id": "gC3UcXETH25s"
      },
      "source": [
        "# with Deep learning\n",
        "\n",
        "---\n",
        "\n"
      ]
    },
    {
      "cell_type": "markdown",
      "metadata": {
        "id": "2jvxIRcQn5Wt"
      },
      "source": [
        "## Train Data\n",
        "\n",
        "paired word-entity name\n",
        "\n",
        "https://raw.githubusercontent.com/Franck-Dernoncourt/NeuroNER/master/neuroner/data/conll2003/en/train.txt\n"
      ]
    },
    {
      "cell_type": "code",
      "metadata": {
        "colab": {
          "base_uri": "https://localhost:8080/"
        },
        "id": "0z8___CkxNqH",
        "outputId": "1db2abfe-39af-4549-d51d-645f76ac8061"
      },
      "source": [
        "import urllib.request\n",
        "data = urllib.request.urlopen(\"https://raw.githubusercontent.com/Franck-Dernoncourt/NeuroNER/master/neuroner/data/conll2003/en/train.txt\").readlines()\n",
        "data[:10]"
      ],
      "execution_count": null,
      "outputs": [
        {
          "output_type": "execute_result",
          "data": {
            "text/plain": [
              "[b'-DOCSTART- -X- -X- O\\n',\n",
              " b'\\n',\n",
              " b'EU NNP B-NP B-ORG\\n',\n",
              " b'rejects VBZ B-VP O\\n',\n",
              " b'German JJ B-NP B-MISC\\n',\n",
              " b'call NN I-NP O\\n',\n",
              " b'to TO B-VP O\\n',\n",
              " b'boycott VB I-VP O\\n',\n",
              " b'British JJ B-NP B-MISC\\n',\n",
              " b'lamb NN I-NP O\\n']"
            ]
          },
          "metadata": {
            "tags": []
          },
          "execution_count": 4
        }
      ]
    },
    {
      "cell_type": "code",
      "metadata": {
        "colab": {
          "base_uri": "https://localhost:8080/"
        },
        "id": "mkNY1Yxjn8_t",
        "outputId": "1e17f0bc-5a35-4d6f-c532-399b1a84c4fe"
      },
      "source": [
        "import urllib.request\n",
        "tagged_sentences = []\n",
        "sentence = []\n",
        "with urllib.request.urlopen(\"https://raw.githubusercontent.com/Franck-Dernoncourt/NeuroNER/master/neuroner/data/conll2003/en/train.txt\") as file:\n",
        "  for line in file:\n",
        "    line = line.decode('utf-8')\n",
        "    if len(line) == 0 or line.startswith('-DOCSTART') or line[0] == \"\\n\":\n",
        "      if len(sentence) > 0:\n",
        "        tagged_sentences.append(sentence)\n",
        "        sentence = []\n",
        "      continue\n",
        "    splits = line.strip().split(' ')\n",
        "    word = splits[0].lower()\n",
        "    sentence.append([word, splits[-1]])\n",
        "\n",
        "print(len(tagged_sentences))\n",
        "print(tagged_sentences[0])\n"
      ],
      "execution_count": null,
      "outputs": [
        {
          "output_type": "stream",
          "text": [
            "14041\n",
            "[['eu', 'B-ORG'], ['rejects', 'O'], ['german', 'B-MISC'], ['call', 'O'], ['to', 'O'], ['boycott', 'O'], ['british', 'B-MISC'], ['lamb', 'O'], ['.', 'O']]\n"
          ],
          "name": "stdout"
        }
      ]
    },
    {
      "cell_type": "code",
      "metadata": {
        "id": "e63XAMEHwLfO"
      },
      "source": [
        "sentences, ner_tags = [], []\n",
        "for tagged_sentence in tagged_sentences:\n",
        "  sentence, tag_info = zip(*tagged_sentence)\n",
        "  sentences.append(list(sentence))\n",
        "  ner_tags.append(list(tag_info))"
      ],
      "execution_count": null,
      "outputs": []
    },
    {
      "cell_type": "code",
      "metadata": {
        "id": "vGYeH77Bx5Ss"
      },
      "source": [
        "from tensorflow.keras.preprocessing.text import Tokenizer\n",
        "max_words = 4000\n",
        "src_tokenizer = Tokenizer(num_words=max_words, oov_token='OOV')\n",
        "src_tokenizer.fit_on_texts(sentences)\n",
        "tar_tokenizer = Tokenizer()\n",
        "tar_tokenizer.fit_on_texts(ner_tags)"
      ],
      "execution_count": null,
      "outputs": []
    },
    {
      "cell_type": "code",
      "metadata": {
        "colab": {
          "base_uri": "https://localhost:8080/"
        },
        "id": "ShIEtjD2yZOr",
        "outputId": "13355791-4355-49f0-c644-202c9318973e"
      },
      "source": [
        "vocab_size = max_words\n",
        "tag_size = len(tar_tokenizer.word_index) + 1\n",
        "print(vocab_size)\n",
        "print(tag_size)"
      ],
      "execution_count": null,
      "outputs": [
        {
          "output_type": "stream",
          "text": [
            "4000\n",
            "10\n"
          ],
          "name": "stdout"
        }
      ]
    },
    {
      "cell_type": "code",
      "metadata": {
        "id": "o51fCEcjymII"
      },
      "source": [
        "X_train = src_tokenizer.texts_to_sequences(sentences)\n",
        "y_train = tar_tokenizer.texts_to_sequences(ner_tags)"
      ],
      "execution_count": null,
      "outputs": []
    },
    {
      "cell_type": "code",
      "metadata": {
        "id": "NY2s1xxSy1KD"
      },
      "source": [
        "from tensorflow.keras.preprocessing.sequence import pad_sequences\n",
        "max_len =70\n",
        "X_train = pad_sequences(X_train, padding='post', maxlen=max_len)\n",
        "y_train = pad_sequences(y_train, padding='post', maxlen=max_len)"
      ],
      "execution_count": null,
      "outputs": []
    },
    {
      "cell_type": "code",
      "metadata": {
        "id": "b-78W30EzQpi"
      },
      "source": [
        "from sklearn.model_selection import train_test_split\n",
        "from tensorflow.keras.utils import to_categorical\n",
        "X_train, X_test, y_train, y_test = train_test_split(X_train, y_train, test_size=.2, random_state=111)\n",
        "y_train = to_categorical(y_train, num_classes=tag_size)\n",
        "y_test = to_categorical(y_test, num_classes=tag_size)"
      ],
      "execution_count": null,
      "outputs": []
    },
    {
      "cell_type": "code",
      "metadata": {
        "colab": {
          "base_uri": "https://localhost:8080/"
        },
        "id": "TrEV1juqzssz",
        "outputId": "7b5b676e-b99c-453f-a944-d8d626527848"
      },
      "source": [
        "print(X_train.shape)\n",
        "print(y_train.shape)\n",
        "print(X_test.shape)\n",
        "print(y_test.shape)"
      ],
      "execution_count": null,
      "outputs": [
        {
          "output_type": "stream",
          "text": [
            "(8985, 70)\n",
            "(8985, 70, 10)\n",
            "(2247, 70)\n",
            "(2247, 70, 10)\n"
          ],
          "name": "stdout"
        }
      ]
    },
    {
      "cell_type": "markdown",
      "metadata": {
        "id": "MhcxtZjVz51S"
      },
      "source": [
        "## Model"
      ]
    },
    {
      "cell_type": "code",
      "metadata": {
        "colab": {
          "base_uri": "https://localhost:8080/"
        },
        "id": "qI-thuoT12ij",
        "outputId": "734ecba8-24c2-462f-9571-09e2a93c59c5"
      },
      "source": [
        "import tensorflow as tf\n",
        "from tensorflow.keras.models import Sequential\n",
        "from tensorflow.keras.layers import Dense, Embedding, LSTM, Bidirectional, TimeDistributed\n",
        "from keras.optimizers import Adam\n",
        "model = Sequential()\n",
        "model.add(Embedding(input_dim=vocab_size, output_dim=128, input_length=max_len, mask_zero=True))\n",
        "model.add(Bidirectional(LSTM(256, return_sequences=True)))\n",
        "model.add(TimeDistributed(Dense(tag_size, activation='softmax')))\n",
        "model.summary()\n",
        "model.compile(optimizer=Adam(0.001),\n",
        "              loss='categorical_crossentropy',\n",
        "              metrics=['accuracy'])"
      ],
      "execution_count": null,
      "outputs": [
        {
          "output_type": "stream",
          "text": [
            "Model: \"sequential\"\n",
            "_________________________________________________________________\n",
            "Layer (type)                 Output Shape              Param #   \n",
            "=================================================================\n",
            "embedding_2 (Embedding)      (None, 70, 128)           512000    \n",
            "_________________________________________________________________\n",
            "bidirectional (Bidirectional (None, 70, 512)           788480    \n",
            "_________________________________________________________________\n",
            "time_distributed (TimeDistri (None, 70, 10)            5130      \n",
            "=================================================================\n",
            "Total params: 1,305,610\n",
            "Trainable params: 1,305,610\n",
            "Non-trainable params: 0\n",
            "_________________________________________________________________\n"
          ],
          "name": "stdout"
        }
      ]
    },
    {
      "cell_type": "code",
      "metadata": {
        "colab": {
          "base_uri": "https://localhost:8080/"
        },
        "id": "KiNH_vUa4Kxi",
        "outputId": "8133b391-457c-48dc-ef45-5116e092ac62"
      },
      "source": [
        "history = model.fit(X_train,\n",
        "                    y_train, \n",
        "                    epochs=30,\n",
        "                    batch_size=128,\n",
        "                    validation_split=0.2\n",
        "                    )"
      ],
      "execution_count": null,
      "outputs": [
        {
          "output_type": "stream",
          "text": [
            "Epoch 1/30\n",
            "57/57 [==============================] - 2s 30ms/step - loss: 0.0190 - accuracy: 0.9730 - val_loss: 0.0405 - val_accuracy: 0.9447\n",
            "Epoch 2/30\n",
            "57/57 [==============================] - 2s 27ms/step - loss: 0.0166 - accuracy: 0.9766 - val_loss: 0.0409 - val_accuracy: 0.9459\n",
            "Epoch 3/30\n",
            "57/57 [==============================] - 2s 27ms/step - loss: 0.0149 - accuracy: 0.9793 - val_loss: 0.0420 - val_accuracy: 0.9433\n",
            "Epoch 4/30\n",
            "57/57 [==============================] - 2s 27ms/step - loss: 0.0138 - accuracy: 0.9803 - val_loss: 0.0425 - val_accuracy: 0.9434\n",
            "Epoch 5/30\n",
            "57/57 [==============================] - 2s 27ms/step - loss: 0.0122 - accuracy: 0.9828 - val_loss: 0.0419 - val_accuracy: 0.9466\n",
            "Epoch 6/30\n",
            "57/57 [==============================] - 2s 26ms/step - loss: 0.0105 - accuracy: 0.9854 - val_loss: 0.0445 - val_accuracy: 0.9453\n",
            "Epoch 7/30\n",
            "57/57 [==============================] - 2s 26ms/step - loss: 0.0094 - accuracy: 0.9875 - val_loss: 0.0459 - val_accuracy: 0.9438\n",
            "Epoch 8/30\n",
            "57/57 [==============================] - 2s 27ms/step - loss: 0.0085 - accuracy: 0.9887 - val_loss: 0.0498 - val_accuracy: 0.9462\n",
            "Epoch 9/30\n",
            "57/57 [==============================] - 2s 26ms/step - loss: 0.0077 - accuracy: 0.9893 - val_loss: 0.0499 - val_accuracy: 0.9474\n",
            "Epoch 10/30\n",
            "57/57 [==============================] - 2s 26ms/step - loss: 0.0068 - accuracy: 0.9909 - val_loss: 0.0533 - val_accuracy: 0.9438\n",
            "Epoch 11/30\n",
            "57/57 [==============================] - 2s 27ms/step - loss: 0.0063 - accuracy: 0.9917 - val_loss: 0.0522 - val_accuracy: 0.9470\n",
            "Epoch 12/30\n",
            "57/57 [==============================] - 2s 27ms/step - loss: 0.0053 - accuracy: 0.9934 - val_loss: 0.0540 - val_accuracy: 0.9466\n",
            "Epoch 13/30\n",
            "57/57 [==============================] - 1s 26ms/step - loss: 0.0046 - accuracy: 0.9944 - val_loss: 0.0546 - val_accuracy: 0.9457\n",
            "Epoch 14/30\n",
            "57/57 [==============================] - 2s 27ms/step - loss: 0.0043 - accuracy: 0.9944 - val_loss: 0.0576 - val_accuracy: 0.9455\n",
            "Epoch 15/30\n",
            "57/57 [==============================] - 1s 26ms/step - loss: 0.0036 - accuracy: 0.9956 - val_loss: 0.0589 - val_accuracy: 0.9462\n",
            "Epoch 16/30\n",
            "57/57 [==============================] - 2s 26ms/step - loss: 0.0033 - accuracy: 0.9962 - val_loss: 0.0619 - val_accuracy: 0.9434\n",
            "Epoch 17/30\n",
            "57/57 [==============================] - 1s 26ms/step - loss: 0.0032 - accuracy: 0.9962 - val_loss: 0.0601 - val_accuracy: 0.9450\n",
            "Epoch 18/30\n",
            "57/57 [==============================] - 2s 27ms/step - loss: 0.0029 - accuracy: 0.9965 - val_loss: 0.0616 - val_accuracy: 0.9441\n",
            "Epoch 19/30\n",
            "57/57 [==============================] - 2s 27ms/step - loss: 0.0029 - accuracy: 0.9966 - val_loss: 0.0633 - val_accuracy: 0.9429\n",
            "Epoch 20/30\n",
            "57/57 [==============================] - 2s 27ms/step - loss: 0.0022 - accuracy: 0.9975 - val_loss: 0.0654 - val_accuracy: 0.9444\n",
            "Epoch 21/30\n",
            "57/57 [==============================] - 2s 27ms/step - loss: 0.0026 - accuracy: 0.9970 - val_loss: 0.0670 - val_accuracy: 0.9403\n",
            "Epoch 22/30\n",
            "57/57 [==============================] - 2s 27ms/step - loss: 0.0021 - accuracy: 0.9975 - val_loss: 0.0662 - val_accuracy: 0.9431\n",
            "Epoch 23/30\n",
            "57/57 [==============================] - 2s 27ms/step - loss: 0.0019 - accuracy: 0.9979 - val_loss: 0.0679 - val_accuracy: 0.9439\n",
            "Epoch 24/30\n",
            "57/57 [==============================] - 2s 27ms/step - loss: 0.0018 - accuracy: 0.9981 - val_loss: 0.0685 - val_accuracy: 0.9448\n",
            "Epoch 25/30\n",
            "57/57 [==============================] - 2s 27ms/step - loss: 0.0014 - accuracy: 0.9984 - val_loss: 0.0689 - val_accuracy: 0.9458\n",
            "Epoch 26/30\n",
            "57/57 [==============================] - 1s 26ms/step - loss: 0.0012 - accuracy: 0.9987 - val_loss: 0.0710 - val_accuracy: 0.9439\n",
            "Epoch 27/30\n",
            "57/57 [==============================] - 2s 27ms/step - loss: 0.0011 - accuracy: 0.9988 - val_loss: 0.0722 - val_accuracy: 0.9444\n",
            "Epoch 28/30\n",
            "57/57 [==============================] - 2s 27ms/step - loss: 9.8923e-04 - accuracy: 0.9989 - val_loss: 0.0736 - val_accuracy: 0.9428\n",
            "Epoch 29/30\n",
            "57/57 [==============================] - 2s 27ms/step - loss: 8.9844e-04 - accuracy: 0.9990 - val_loss: 0.0744 - val_accuracy: 0.9431\n",
            "Epoch 30/30\n",
            "57/57 [==============================] - 2s 27ms/step - loss: 0.0010 - accuracy: 0.9988 - val_loss: 0.0758 - val_accuracy: 0.9428\n"
          ],
          "name": "stdout"
        }
      ]
    },
    {
      "cell_type": "code",
      "metadata": {
        "colab": {
          "base_uri": "https://localhost:8080/",
          "height": 513
        },
        "id": "rvBh0DnJ6SZh",
        "outputId": "fb6d4f88-0e77-47f4-9dd3-86172d83b0ee"
      },
      "source": [
        "import matplotlib.pyplot as plt\n",
        "loss = history.history['loss']\n",
        "acc = history.history['accuracy']\n",
        "val_loss = history.history['val_loss']\n",
        "val_acc = history.history['val_accuracy']\n",
        "epochs = range(1, len(loss)+1)\n",
        "\n",
        "plt.plot(epochs, loss, label='training loss')\n",
        "plt.plot(epochs, val_loss, label='validation loss')\n",
        "plt.legend()\n",
        "plt.grid()\n",
        "plt.show()\n",
        "\n",
        "plt.figure()\n",
        "plt.plot(epochs, acc, label='training accuracy')\n",
        "plt.plot(epochs, val_acc, label='validation accuracy')\n",
        "plt.legend()\n",
        "plt.grid()\n",
        "plt.show()"
      ],
      "execution_count": null,
      "outputs": [
        {
          "output_type": "display_data",
          "data": {
            "image/png": "[encoded data removed]",
            "text/plain": [
              "<Figure size 432x288 with 1 Axes>"
            ]
          },
          "metadata": {
            "tags": [],
            "needs_background": "light"
          }
        },
        {
          "output_type": "display_data",
          "data": {
            "image/png": "[encoded data removed]",
            "text/plain": [
              "<Figure size 432x288 with 1 Axes>"
            ]
          },
          "metadata": {
            "tags": [],
            "needs_background": "light"
          }
        }
      ]
    },
    {
      "cell_type": "code",
      "metadata": {
        "colab": {
          "base_uri": "https://localhost:8080/"
        },
        "id": "AXyZ_zun7wAa",
        "outputId": "afb274c3-ddcf-4377-9ed5-181a95462924"
      },
      "source": [
        "model.evaluate(X_test, y_test)"
      ],
      "execution_count": null,
      "outputs": [
        {
          "output_type": "stream",
          "text": [
            "71/71 [==============================] - 1s 7ms/step - loss: 0.0734 - accuracy: 0.9455\n"
          ],
          "name": "stdout"
        },
        {
          "output_type": "execute_result",
          "data": {
            "text/plain": [
              "[0.07335249334573746, 0.9454590082168579]"
            ]
          },
          "metadata": {
            "tags": []
          },
          "execution_count": 31
        }
      ]
    },
    {
      "cell_type": "markdown",
      "metadata": {
        "id": "M4-V3X-671D2"
      },
      "source": [
        "## Prediction"
      ]
    },
    {
      "cell_type": "code",
      "metadata": {
        "id": "Uq2yja_w72zy"
      },
      "source": [
        "idx2word = src_tokenizer.index_word\n",
        "idx2ner = tar_tokenizer.index_word\n",
        "idx2ner[0] = 'PAD'"
      ],
      "execution_count": null,
      "outputs": []
    },
    {
      "cell_type": "code",
      "metadata": {
        "id": "AKWPCKNn-aL2"
      },
      "source": [
        "print(idx2word)"
      ],
      "execution_count": null,
      "outputs": []
    },
    {
      "cell_type": "code",
      "metadata": {
        "id": "__toYbxm_LS5"
      },
      "source": [
        "print(idx2ner)"
      ],
      "execution_count": null,
      "outputs": []
    },
    {
      "cell_type": "code",
      "metadata": {
        "id": "Iv9xCkbj8EIn"
      },
      "source": [
        "import numpy as np\n",
        "def ner_predict(i):\n",
        "  y_pred = model.predict(np.array([X_test[i]]))\n",
        "  y_pred = np.argmax(y_pred, axis=-1)\n",
        "  true = np.argmax(y_test[i], -1)\n",
        "  print(\"{:15}|{:10}|{}\".format(\"word\",\"real\",\"pred\"))\n",
        "  print(\"-\"*40)\n",
        "  for w, t, pred in zip(X_test[i], true, y_pred[0]):\n",
        "    if w != 0:\n",
        "      print(\"{:15}|{:10}|{}\".format(idx2word[w], idx2ner[t].upper(), idx2ner[pred].upper()))"
      ],
      "execution_count": null,
      "outputs": []
    },
    {
      "cell_type": "code",
      "metadata": {
        "colab": {
          "base_uri": "https://localhost:8080/"
        },
        "id": "-wfxH5nNApkd",
        "outputId": "5eb96b32-6176-430e-ccb0-4d98f1b3c90e"
      },
      "source": [
        "ner_predict(12)"
      ],
      "execution_count": null,
      "outputs": [
        {
          "output_type": "stream",
          "text": [
            "word           |real      |pred\n",
            "----------------------------------------\n",
            "thailand       |B-LOC     |B-LOC\n",
            "has            |O         |O\n",
            "launched       |O         |O\n",
            "a              |O         |O\n",
            "OOV            |O         |O\n",
            "for            |O         |O\n",
            "an             |O         |O\n",
            "australian     |B-MISC    |B-MISC\n",
            "who            |O         |O\n",
            "escaped        |O         |O\n",
            "from           |O         |O\n",
            "a              |O         |O\n",
            "high           |O         |B-LOC\n",
            "security       |O         |O\n",
            "prison         |O         |O\n",
            "in             |O         |O\n",
            "bangkok        |B-LOC     |B-LOC\n",
            "while          |O         |O\n",
            "OOV            |O         |O\n",
            "trial          |O         |O\n",
            "on             |O         |O\n",
            "drug           |O         |O\n",
            "OOV            |O         |O\n",
            "charges        |O         |O\n",
            ",              |O         |O\n",
            "officials      |O         |O\n",
            "said           |O         |O\n",
            "on             |O         |O\n",
            "thursday       |O         |O\n",
            ".              |O         |O\n"
          ],
          "name": "stdout"
        }
      ]
    },
    {
      "cell_type": "code",
      "metadata": {
        "colab": {
          "base_uri": "https://localhost:8080/"
        },
        "id": "g4K6OX3b9FuI",
        "outputId": "842017c6-768e-4ab5-b33e-563fc928fea8"
      },
      "source": [
        "ner_predict(64)"
      ],
      "execution_count": null,
      "outputs": [
        {
          "output_type": "stream",
          "text": [
            "word           |real      |pred\n",
            "----------------------------------------\n",
            "OOV            |B-PER     |B-PER\n",
            "OOV            |I-PER     |I-PER\n",
            "(              |O         |O\n",
            "slovakia       |B-LOC     |B-LOC\n",
            ")              |O         |O\n",
            "beat           |O         |O\n",
            "6              |O         |O\n",
            "-              |O         |O\n",
            "karina         |B-PER     |B-PER\n",
            "habsudova      |I-PER     |I-PER\n"
          ],
          "name": "stdout"
        }
      ]
    },
    {
      "cell_type": "code",
      "metadata": {
        "colab": {
          "base_uri": "https://localhost:8080/"
        },
        "id": "TtW00FCVA3Cn",
        "outputId": "55e2fc62-d3de-48e5-c8a3-5d4713085b1c"
      },
      "source": [
        "ner_predict(119)"
      ],
      "execution_count": null,
      "outputs": [
        {
          "output_type": "stream",
          "text": [
            "word           |real      |pred\n",
            "----------------------------------------\n",
            "OOV            |B-ORG     |B-ORG\n",
            "OOV            |O         |O\n",
            "in             |O         |O\n",
            "its            |O         |O\n",
            "latest         |O         |O\n",
            "review         |O         |O\n",
            "OOV            |O         |O\n",
            "of             |O         |O\n",
            "OOV            |O         |O\n",
            "by             |O         |O\n",
            "OOV            |B-ORG     |B-ORG\n",
            "corp           |I-ORG     |I-ORG\n",
            ",              |O         |O\n",
            "with           |O         |O\n",
            "cniec          |B-ORG     |B-ORG\n",
            "said           |O         |O\n",
            "to             |O         |O\n",
            "be             |O         |O\n",
            "OOV            |O         |O\n",
            "the            |O         |O\n",
            "japanese       |B-MISC    |B-MISC\n",
            "trader         |O         |O\n",
            "OOV            |O         |O\n",
            "its            |O         |O\n",
            "copper         |O         |O\n",
            "positions      |O         |O\n",
            "after          |O         |O\n",
            "it             |O         |O\n",
            "OOV            |O         |O\n",
            "in             |O         |O\n",
            "june           |O         |O\n",
            "losses         |O         |O\n",
            "of             |O         |O\n",
            "$              |O         |O\n",
            "OOV            |O         |O\n",
            "billion        |O         |O\n",
            "in             |O         |O\n",
            "a              |O         |O\n",
            "OOV            |O         |O\n",
            "of             |O         |O\n",
            "OOV            |O         |O\n",
            "deals          |O         |O\n",
            ".              |O         |O\n"
          ],
          "name": "stdout"
        }
      ]
    }
  ]
}