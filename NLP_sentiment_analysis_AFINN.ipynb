{
  "nbformat": 4,
  "nbformat_minor": 0,
  "metadata": {
    "colab": {
      "name": "NLP sentiment analysis - AFINN.ipynb",
      "provenance": [],
      "collapsed_sections": [],
      "toc_visible": true,
      "authorship_tag": "ABX9TyOJcQs9y8H55SfxrLUBnyEU",
      "include_colab_link": true
    },
    "kernelspec": {
      "name": "python3",
      "display_name": "Python 3"
    },
    "language_info": {
      "name": "python"
    }
  },
  "cells": [
    {
      "cell_type": "markdown",
      "metadata": {
        "id": "view-in-github",
        "colab_type": "text"
      },
      "source": [
        "<a href=\"https://colab.research.google.com/github/woodstone10/nlp-natural-language-lab/blob/main/NLP_sentiment_analysis_AFINN.ipynb\" target=\"_parent\"><img src=\"https://colab.research.google.com/assets/colab-badge.svg\" alt=\"Open In Colab\"/></a>"
      ]
    },
    {
      "cell_type": "markdown",
      "metadata": {
        "id": "v6Av6qxShF6G"
      },
      "source": [
        "# NLP Sentiment Analysis Positive and Negative classification - AFINN\n",
        "\n",
        "---\n",
        "\n"
      ]
    },
    {
      "cell_type": "markdown",
      "metadata": {
        "id": "Z0Qybm2AhWCU"
      },
      "source": [
        "## **Sentimental dictionary**\n",
        "\n",
        "AFINN sentiment analysis in Python: Wordlist-based approach for sentiment analysis.\n",
        "https://pypi.org/project/afinn"
      ]
    },
    {
      "cell_type": "code",
      "metadata": {
        "colab": {
          "base_uri": "https://localhost:8080/"
        },
        "id": "I9fPFaBnYm5Q",
        "outputId": "6ebb75c6-4cfd-4b54-85ad-1e8a5eeab0a0"
      },
      "source": [
        "!pip install afinn"
      ],
      "execution_count": null,
      "outputs": [
        {
          "output_type": "stream",
          "text": [
            "Requirement already satisfied: afinn in /usr/local/lib/python3.7/dist-packages (0.1)\n"
          ],
          "name": "stdout"
        }
      ]
    },
    {
      "cell_type": "code",
      "metadata": {
        "id": "zwmwO-BOj_aU"
      },
      "source": [
        "from afinn import Afinn\n",
        "afinn = Afinn()"
      ],
      "execution_count": null,
      "outputs": []
    },
    {
      "cell_type": "markdown",
      "metadata": {
        "id": "CXsDYzHghb3g"
      },
      "source": [
        "## **Data** - News from Scikit-learn dataset "
      ]
    },
    {
      "cell_type": "code",
      "metadata": {
        "colab": {
          "base_uri": "https://localhost:8080/"
        },
        "id": "VrZcOoGwZXM1",
        "outputId": "d63b2095-6625-43e7-e463-131691411215"
      },
      "source": [
        "import sklearn.datasets \n",
        "newsdata = sklearn.datasets.fetch_20newsgroups(subset='train')\n",
        "print(len(newsdata.data))\n",
        "print(newsdata.data[0])"
      ],
      "execution_count": null,
      "outputs": [
        {
          "output_type": "stream",
          "text": [
            "11314\n",
            "From: lerxst@wam.umd.edu (where's my thing)\n",
            "Subject: WHAT car is this!?\n",
            "Nntp-Posting-Host: rac3.wam.umd.edu\n",
            "Organization: University of Maryland, College Park\n",
            "Lines: 15\n",
            "\n",
            " I was wondering if anyone out there could enlighten me on this car I saw\n",
            "the other day. It was a 2-door sports car, looked to be from the late 60s/\n",
            "early 70s. It was called a Bricklin. The doors were really small. In addition,\n",
            "the front bumper was separate from the rest of the body. This is \n",
            "all I know. If anyone can tellme a model name, engine specs, years\n",
            "of production, where this car is made, history, or whatever info you\n",
            "have on this funky looking car, please e-mail.\n",
            "\n",
            "Thanks,\n",
            "- IL\n",
            "   ---- brought to you by your neighborhood Lerxst ----\n",
            "\n",
            "\n",
            "\n",
            "\n",
            "\n"
          ],
          "name": "stdout"
        }
      ]
    },
    {
      "cell_type": "code",
      "metadata": {
        "colab": {
          "base_uri": "https://localhost:8080/"
        },
        "id": "KIi5O7TeaCEf",
        "outputId": "8a99030c-72b0-483c-b093-6aa3758a03be"
      },
      "source": [
        "for i in range(10):\n",
        "  print(afinn.score(newsdata.data[i]))"
      ],
      "execution_count": null,
      "outputs": [
        {
          "output_type": "stream",
          "text": [
            "7.0\n",
            "11.0\n",
            "16.0\n",
            "5.0\n",
            "-23.0\n",
            "-25.0\n",
            "7.0\n",
            "3.0\n",
            "16.0\n",
            "-20.0\n"
          ],
          "name": "stdout"
        }
      ]
    },
    {
      "cell_type": "markdown",
      "metadata": {
        "id": "3Jq7CAlCp8VQ"
      },
      "source": [
        "## **Positive and Negative classification** using afinn.score()"
      ]
    },
    {
      "cell_type": "code",
      "metadata": {
        "id": "KKY-eBVvfYzS"
      },
      "source": [
        "positive, neutral, negative = 0, 0, 0\n",
        "for i in newsdata.data:\n",
        "  score = afinn.score(i)\n",
        "  if score > 0:\n",
        "    positive += 1\n",
        "  elif score == 0:\n",
        "    neutral += 1\n",
        "  else:\n",
        "    negative += 1"
      ],
      "execution_count": null,
      "outputs": []
    },
    {
      "cell_type": "code",
      "metadata": {
        "id": "31DTn7sQbH6t"
      },
      "source": [
        "import pandas as pd\n",
        "import numpy as np\n",
        "import matplotlib.pyplot as plt\n",
        "import tensorflow as tf"
      ],
      "execution_count": null,
      "outputs": []
    },
    {
      "cell_type": "code",
      "metadata": {
        "colab": {
          "base_uri": "https://localhost:8080/",
          "height": 265
        },
        "id": "VG4fKQ_cgXMZ",
        "outputId": "a2f3d3a1-84ba-417f-a11a-78e37d0fa124"
      },
      "source": [
        "plt.bar([1,0,-1], [positive, neutral, negative])\n",
        "plt.xticks([1,0,-1], ['positive', 'neutral', 'negative'])\n",
        "plt.show()"
      ],
      "execution_count": null,
      "outputs": [
        {
          "output_type": "display_data",
          "data": {
            "image/png": "[encoded data removed]",
            "text/plain": [
              "<Figure size 432x288 with 1 Axes>"
            ]
          },
          "metadata": {
            "tags": [],
            "needs_background": "light"
          }
        }
      ]
    }
  ]
}